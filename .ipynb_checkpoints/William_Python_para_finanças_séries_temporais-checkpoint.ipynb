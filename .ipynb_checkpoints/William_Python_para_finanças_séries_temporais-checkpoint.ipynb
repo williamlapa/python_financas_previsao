{
 "cells": [
  {
   "cell_type": "markdown",
   "metadata": {
    "id": "O6ByOm0eyfIO"
   },
   "source": [
    "# Séries temporais em bases financeiras - ARIMA"
   ]
  },
  {
   "cell_type": "markdown",
   "metadata": {
    "id": "9jUNUs9qY5NX"
   },
   "source": [
    "## Instalação e importação das bibliotecas"
   ]
  },
  {
   "cell_type": "code",
   "execution_count": null,
   "metadata": {
    "id": "wkEQknX6iHzQ"
   },
   "outputs": [],
   "source": [
    "#!pip install pmdarima"
   ]
  },
  {
   "cell_type": "code",
   "execution_count": null,
   "metadata": {
    "id": "NvT9-pSxiNSO"
   },
   "outputs": [],
   "source": [
    "import pandas as pd\n",
    "import numpy as np\n",
    "import matplotlib.pyplot as plt\n",
    "import plotly.express as px\n",
    "import datetime\n",
    "from statsmodels.tsa.seasonal import seasonal_decompose\n",
    "from pmdarima.arima import auto_arima\n",
    "import yfinance as yf"
   ]
  },
  {
   "cell_type": "markdown",
   "metadata": {
    "id": "B44i27fMAa5m"
   },
   "source": [
    "## Carregamento da base de dados"
   ]
  },
  {
   "cell_type": "code",
   "execution_count": null,
   "metadata": {
    "id": "qwscvobzi9Fw"
   },
   "outputs": [],
   "source": [
    "dateparse = lambda dates: datetime.datetime.strptime(dates, '%Y-%m-%d')\n",
    "dataset = pd.read_csv('acoes.csv', parse_dates=['Date'], index_col='Date',\n",
    "                      date_parser = dateparse, usecols = ['Date', 'BIDI'])"
   ]
  },
  {
   "cell_type": "code",
   "execution_count": null,
   "metadata": {
    "colab": {
     "base_uri": "https://localhost:8080/",
     "height": 479
    },
    "id": "IWmo9ObmjvF7",
    "outputId": "1f51e938-86bb-4779-c705-25f0e5cf5d71"
   },
   "outputs": [],
   "source": [
    "dataset"
   ]
  },
  {
   "cell_type": "code",
   "execution_count": null,
   "metadata": {
    "id": "G6js2Utej2cI"
   },
   "outputs": [],
   "source": [
    "time_series = dataset['BIDI']"
   ]
  },
  {
   "cell_type": "code",
   "execution_count": null,
   "metadata": {
    "colab": {
     "base_uri": "https://localhost:8080/"
    },
    "id": "UJEviZHHj6Y2",
    "outputId": "87f47433-aa82-4d42-815f-b092478e1d37"
   },
   "outputs": [],
   "source": [
    "time_series"
   ]
  },
  {
   "cell_type": "code",
   "execution_count": null,
   "metadata": {},
   "outputs": [],
   "source": [
    "nome = time_series_datas.name"
   ]
  },
  {
   "cell_type": "markdown",
   "metadata": {
    "id": "FZ9UcaRuva1i"
   },
   "source": [
    "## Exploração da série temporal"
   ]
  },
  {
   "cell_type": "code",
   "execution_count": null,
   "metadata": {
    "colab": {
     "base_uri": "https://localhost:8080/"
    },
    "id": "aKICC7TElzhk",
    "outputId": "8e239670-dbf9-483c-d3b0-cb6c80758413"
   },
   "outputs": [],
   "source": [
    "time_series[1]"
   ]
  },
  {
   "cell_type": "code",
   "execution_count": null,
   "metadata": {},
   "outputs": [],
   "source": [
    "menor_data = min(time_series.index)\n",
    "maior_data = max(time_series.index)"
   ]
  },
  {
   "cell_type": "code",
   "execution_count": null,
   "metadata": {
    "colab": {
     "base_uri": "https://localhost:8080/"
    },
    "id": "G0cu4tlCl_Sf",
    "outputId": "57543dc5-29d0-47b9-e80f-975ec9635cec"
   },
   "outputs": [],
   "source": [
    "time_series[menor_data]"
   ]
  },
  {
   "cell_type": "code",
   "execution_count": null,
   "metadata": {
    "colab": {
     "base_uri": "https://localhost:8080/"
    },
    "id": "CULrJbmfmGsj",
    "outputId": "7c11cb26-11be-4f5b-af07-cab4303487c4"
   },
   "outputs": [],
   "source": [
    "time_series[menor_data: maior_data]"
   ]
  },
  {
   "cell_type": "code",
   "execution_count": null,
   "metadata": {
    "colab": {
     "base_uri": "https://localhost:8080/"
    },
    "id": "Jh-V5D-wmSOU",
    "outputId": "e9f99d33-9b91-4e1a-9006-2651d21783ad"
   },
   "outputs": [],
   "source": [
    "time_series[:'2015-07-31']"
   ]
  },
  {
   "cell_type": "code",
   "execution_count": null,
   "metadata": {
    "colab": {
     "base_uri": "https://localhost:8080/"
    },
    "id": "F5caAXLsmbOh",
    "outputId": "c87ab8ea-6c31-456c-8944-94de7960a47a"
   },
   "outputs": [],
   "source": [
    "time_series['2021']"
   ]
  },
  {
   "cell_type": "code",
   "execution_count": null,
   "metadata": {
    "colab": {
     "base_uri": "https://localhost:8080/"
    },
    "id": "lONMLs1HmhlI",
    "outputId": "7f591d41-f916-4aee-fbe0-c3e428bca8cf"
   },
   "outputs": [],
   "source": [
    "time_series.index.max()"
   ]
  },
  {
   "cell_type": "code",
   "execution_count": null,
   "metadata": {
    "colab": {
     "base_uri": "https://localhost:8080/"
    },
    "id": "1rUgPHXimm4u",
    "outputId": "e48e146c-e9ce-427b-9515-02334d8d33c3"
   },
   "outputs": [],
   "source": [
    "time_series.index.min()"
   ]
  },
  {
   "cell_type": "code",
   "execution_count": null,
   "metadata": {
    "colab": {
     "base_uri": "https://localhost:8080/",
     "height": 285
    },
    "id": "5BL2Ls7kmqFD",
    "outputId": "6b819438-4eb7-4cee-d99b-7f603d763246"
   },
   "outputs": [],
   "source": [
    "plt.plot(time_series);"
   ]
  },
  {
   "cell_type": "code",
   "execution_count": null,
   "metadata": {
    "colab": {
     "base_uri": "https://localhost:8080/",
     "height": 563
    },
    "id": "5LWnnB1dmvp9",
    "outputId": "76164549-8bad-45ca-8fea-4927d6c29ec3"
   },
   "outputs": [],
   "source": [
    "figura = px.line(title='Histórico do preço das ações')\n",
    "figura.add_scatter(x = time_series.index, y = time_series)"
   ]
  },
  {
   "cell_type": "code",
   "execution_count": null,
   "metadata": {
    "id": "-4Z_PG1UnExs"
   },
   "outputs": [],
   "source": [
    "time_series_datas = time_series"
   ]
  },
  {
   "cell_type": "code",
   "execution_count": null,
   "metadata": {
    "colab": {
     "base_uri": "https://localhost:8080/"
    },
    "id": "BoJwHLPsnQFj",
    "outputId": "075adc0e-7851-4c19-a2fe-941323d0e3da"
   },
   "outputs": [],
   "source": [
    "time_series_datas"
   ]
  },
  {
   "cell_type": "code",
   "execution_count": null,
   "metadata": {
    "colab": {
     "base_uri": "https://localhost:8080/",
     "height": 285
    },
    "id": "CDpfXr85nTta",
    "outputId": "27694f03-8eff-4ef0-bd83-96982588dfc8"
   },
   "outputs": [],
   "source": [
    "plt.plot(time_series_datas);\n",
    "plt.title('Ação - '+ nome)"
   ]
  },
  {
   "cell_type": "markdown",
   "metadata": {
    "id": "9bLd-VCkAtnV"
   },
   "source": [
    "## Decomposição da série temporal"
   ]
  },
  {
   "cell_type": "code",
   "execution_count": null,
   "metadata": {
    "colab": {
     "base_uri": "https://localhost:8080/"
    },
    "id": "iwvJgtEPoblB",
    "outputId": "9309467e-b404-4ec8-8122-ca97e543b23c"
   },
   "outputs": [],
   "source": [
    "type(time_series)"
   ]
  },
  {
   "cell_type": "code",
   "execution_count": null,
   "metadata": {
    "colab": {
     "base_uri": "https://localhost:8080/"
    },
    "id": "1-Ek4PL-oneD",
    "outputId": "aecec673-a6fe-4319-f52f-6b03544aa4d3"
   },
   "outputs": [],
   "source": [
    "len(time_series) / 2"
   ]
  },
  {
   "cell_type": "code",
   "execution_count": null,
   "metadata": {
    "id": "kK5S89h9n0_r"
   },
   "outputs": [],
   "source": [
    "decomposicao = seasonal_decompose(time_series, period=len(time_series) // 2)"
   ]
  },
  {
   "cell_type": "code",
   "execution_count": null,
   "metadata": {
    "id": "sfiL0pJoo5uY"
   },
   "outputs": [],
   "source": [
    "tendencia = decomposicao.trend\n",
    "sazonal = decomposicao.seasonal\n",
    "aleatorio = decomposicao.resid"
   ]
  },
  {
   "cell_type": "code",
   "execution_count": null,
   "metadata": {
    "colab": {
     "base_uri": "https://localhost:8080/",
     "height": 287
    },
    "id": "HGteiQhnpD7v",
    "outputId": "0d9b60c2-74f6-4b4e-ef74-a57356efcca5"
   },
   "outputs": [],
   "source": [
    "plt.plot(tendencia);\n",
    "plt.title('Ação - '+ nome)"
   ]
  },
  {
   "cell_type": "code",
   "execution_count": null,
   "metadata": {
    "colab": {
     "base_uri": "https://localhost:8080/",
     "height": 287
    },
    "id": "vGZLIxhgpMdZ",
    "outputId": "88d9c05b-471e-45b6-f165-d256736d92ff"
   },
   "outputs": [],
   "source": [
    "plt.plot(sazonal);\n",
    "plt.title('Ação - '+ nome)"
   ]
  },
  {
   "cell_type": "code",
   "execution_count": null,
   "metadata": {
    "colab": {
     "base_uri": "https://localhost:8080/",
     "height": 285
    },
    "id": "ECq_2thwp1Et",
    "outputId": "f96c2fea-4ddc-4075-993f-e09b4f0133ed"
   },
   "outputs": [],
   "source": [
    "plt.plot(aleatorio);\n",
    "plt.title('Ação - '+ nome)"
   ]
  },
  {
   "cell_type": "markdown",
   "metadata": {
    "id": "vD9tYEN0A4Jz"
   },
   "source": [
    "## Previsões com ARIMA"
   ]
  },
  {
   "cell_type": "code",
   "execution_count": null,
   "metadata": {},
   "outputs": [],
   "source": [
    "modelo = auto_arima(time_series, suppress_warnings=True, error_action='ignore')"
   ]
  },
  {
   "cell_type": "code",
   "execution_count": null,
   "metadata": {
    "colab": {
     "base_uri": "https://localhost:8080/"
    },
    "id": "CZ4eFO8NrKeM",
    "outputId": "9d4133cd-ea62-4b4b-8e27-e2d4ee7f03f9"
   },
   "outputs": [],
   "source": [
    "# Parâmetros P, Q e D\n",
    "modelo.order"
   ]
  },
  {
   "cell_type": "code",
   "execution_count": null,
   "metadata": {
    "id": "ecOcoKQQrVdE"
   },
   "outputs": [],
   "source": [
    "previsoes = modelo.predict(n_periods=90)"
   ]
  },
  {
   "cell_type": "code",
   "execution_count": null,
   "metadata": {
    "colab": {
     "base_uri": "https://localhost:8080/"
    },
    "id": "p3ham_vOrgYH",
    "outputId": "c89eee92-d770-4db9-ffeb-07cce7a9952f"
   },
   "outputs": [],
   "source": [
    "previsoes"
   ]
  },
  {
   "cell_type": "markdown",
   "metadata": {
    "id": "dBl4LEqwwPXk"
   },
   "source": [
    "## Gráfico das previsões"
   ]
  },
  {
   "cell_type": "code",
   "execution_count": null,
   "metadata": {
    "colab": {
     "base_uri": "https://localhost:8080/"
    },
    "id": "KNQGluPusfzV",
    "outputId": "5b974d8f-c944-4e54-fb80-d2dcea1fdf19"
   },
   "outputs": [],
   "source": [
    "len(time_series)"
   ]
  },
  {
   "cell_type": "code",
   "execution_count": null,
   "metadata": {
    "colab": {
     "base_uri": "https://localhost:8080/"
    },
    "id": "x-xvDizKszS9",
    "outputId": "7371d0c7-7916-4d89-b01c-a1866fe986d6"
   },
   "outputs": [],
   "source": [
    "treinamento = time_series[:1081]\n",
    "treinamento.shape"
   ]
  },
  {
   "cell_type": "code",
   "execution_count": null,
   "metadata": {
    "colab": {
     "base_uri": "https://localhost:8080/"
    },
    "id": "yfxhRj_gs7F8",
    "outputId": "3a0910dc-d5ce-4b27-a02f-703a140512e4"
   },
   "outputs": [],
   "source": [
    "treinamento.index.min(), treinamento.index.max()"
   ]
  },
  {
   "cell_type": "code",
   "execution_count": null,
   "metadata": {
    "colab": {
     "base_uri": "https://localhost:8080/"
    },
    "id": "g6RjUYhTtCeo",
    "outputId": "251abbf3-eb0f-4601-83eb-17d95a9b07be"
   },
   "outputs": [],
   "source": [
    "teste = time_series[1081:]\n",
    "teste.shape"
   ]
  },
  {
   "cell_type": "code",
   "execution_count": null,
   "metadata": {
    "colab": {
     "base_uri": "https://localhost:8080/"
    },
    "id": "cDh90QXStTwx",
    "outputId": "1f989744-e79f-4468-8d0d-4ee5ec9e72bb"
   },
   "outputs": [],
   "source": [
    "teste.index.min(), teste.index.max()"
   ]
  },
  {
   "cell_type": "code",
   "execution_count": null,
   "metadata": {
    "id": "BjNaivTttdwN"
   },
   "outputs": [],
   "source": [
    "modelo2 = auto_arima(treinamento, suppress_warnings=True, error_action='ignore')"
   ]
  },
  {
   "cell_type": "code",
   "execution_count": null,
   "metadata": {
    "colab": {
     "base_uri": "https://localhost:8080/"
    },
    "id": "x-OF0Ye0tlzZ",
    "outputId": "5b320ced-903a-4956-f685-8d6a67b7a902"
   },
   "outputs": [],
   "source": [
    "teste.index"
   ]
  },
  {
   "cell_type": "code",
   "execution_count": null,
   "metadata": {
    "colab": {
     "base_uri": "https://localhost:8080/",
     "height": 479
    },
    "id": "JvWS_FOQtqqX",
    "outputId": "10120d3b-b0b3-4904-d1df-db958ec17ab8"
   },
   "outputs": [],
   "source": [
    "previsoes = pd.DataFrame(modelo2.predict(n_periods=365), index=teste.index)\n",
    "previsoes.columns = ['previsoes']\n",
    "previsoes"
   ]
  },
  {
   "cell_type": "code",
   "execution_count": null,
   "metadata": {
    "colab": {
     "base_uri": "https://localhost:8080/"
    },
    "id": "lU3Ye13UuH3M",
    "outputId": "0ec2513f-76aa-402f-c978-71676c95ea55"
   },
   "outputs": [],
   "source": [
    "teste"
   ]
  },
  {
   "cell_type": "code",
   "execution_count": null,
   "metadata": {
    "colab": {
     "base_uri": "https://localhost:8080/",
     "height": 340
    },
    "id": "GBRqX-BeuTcD",
    "outputId": "648ac0b0-f860-41c2-dd38-a342ad0ec6c3"
   },
   "outputs": [],
   "source": [
    "plt.figure(figsize=(8,5))\n",
    "plt.plot(treinamento, label = 'Treinamento')\n",
    "plt.plot(teste, label = 'Teste')\n",
    "plt.plot(previsoes, label = 'Previsões')\n",
    "plt.legend();"
   ]
  },
  {
   "cell_type": "markdown",
   "metadata": {
    "id": "95ETsRAuw5ju"
   },
   "source": [
    "## Avaliação do ARIMA"
   ]
  },
  {
   "cell_type": "code",
   "execution_count": null,
   "metadata": {
    "colab": {
     "base_uri": "https://localhost:8080/"
    },
    "id": "hvqNUvFMvgD2",
    "outputId": "666363a9-4088-4ec9-90bd-46eafe19f316"
   },
   "outputs": [],
   "source": [
    "teste[0:2]"
   ]
  },
  {
   "cell_type": "code",
   "execution_count": null,
   "metadata": {
    "colab": {
     "base_uri": "https://localhost:8080/",
     "height": 164
    },
    "id": "_oR3a9P8vjgp",
    "outputId": "858f9c87-784d-448a-ca96-81428248972c"
   },
   "outputs": [],
   "source": [
    "previsoes[0:2]"
   ]
  },
  {
   "cell_type": "code",
   "execution_count": null,
   "metadata": {
    "colab": {
     "base_uri": "https://localhost:8080/"
    },
    "id": "EW4foEKOwLpE",
    "outputId": "c6812333-f7bf-42a0-b6fb-ea7b80e0817a"
   },
   "outputs": [],
   "source": [
    "2.59 / 365"
   ]
  },
  {
   "cell_type": "code",
   "execution_count": null,
   "metadata": {
    "colab": {
     "base_uri": "https://localhost:8080/"
    },
    "id": "5EQXubyPvm60",
    "outputId": "8fa1f163-bfd4-4b41-bfd8-11346bb2e67f"
   },
   "outputs": [],
   "source": [
    "sum(abs(teste - previsoes['previsoes']) / len(teste))"
   ]
  },
  {
   "cell_type": "code",
   "execution_count": null,
   "metadata": {
    "colab": {
     "base_uri": "https://localhost:8080/"
    },
    "id": "9p86Re6gwdSF",
    "outputId": "7a68af5f-87b6-4968-f095-e46cec49f305"
   },
   "outputs": [],
   "source": [
    "from sklearn.metrics import mean_absolute_error\n",
    "mean_absolute_error(teste, previsoes)"
   ]
  },
  {
   "cell_type": "markdown",
   "metadata": {
    "id": "nwOysxKvqlvO"
   },
   "source": [
    "# Séries temporais em bases financeiras - Facebook Prophet"
   ]
  },
  {
   "cell_type": "markdown",
   "metadata": {
    "id": "Zr7TtFrsqt7r"
   },
   "source": [
    "## Instalação e importação das bibliotecas"
   ]
  },
  {
   "cell_type": "code",
   "execution_count": null,
   "metadata": {
    "id": "Wnbi3ROox86T"
   },
   "outputs": [],
   "source": [
    "!pip install fbprophet"
   ]
  },
  {
   "cell_type": "code",
   "execution_count": null,
   "metadata": {
    "id": "whvxObneyHiD"
   },
   "outputs": [],
   "source": [
    "from fbprophet import Prophet\n",
    "import pandas as pd"
   ]
  },
  {
   "cell_type": "markdown",
   "metadata": {
    "id": "colc4bZPq47-"
   },
   "source": [
    "## Carregamento da base de dados"
   ]
  },
  {
   "cell_type": "code",
   "execution_count": null,
   "metadata": {
    "colab": {
     "base_uri": "https://localhost:8080/",
     "height": 447
    },
    "id": "ThOmX6dAyTW0",
    "outputId": "44866977-e1c7-46d0-cb74-e1b975aa58da"
   },
   "outputs": [],
   "source": [
    "dataset = pd.read_csv('acoes.csv', usecols=['Date', 'BIDI'])\n",
    "dataset"
   ]
  },
  {
   "cell_type": "code",
   "execution_count": null,
   "metadata": {
    "colab": {
     "base_uri": "https://localhost:8080/",
     "height": 447
    },
    "id": "XFw6eIg-yrgr",
    "outputId": "b94e6f3b-7624-4695-cdd5-491a38758919"
   },
   "outputs": [],
   "source": [
    "dataset = dataset[['Date', 'BOVA']].rename(columns = {'Date': 'ds', 'BIDI': 'y'})\n",
    "dataset"
   ]
  },
  {
   "cell_type": "markdown",
   "metadata": {
    "id": "RSFyvQm4rYJ6"
   },
   "source": [
    "## Construção do modelo e previsões"
   ]
  },
  {
   "cell_type": "code",
   "execution_count": null,
   "metadata": {
    "colab": {
     "base_uri": "https://localhost:8080/"
    },
    "id": "XQ-5uBLTzLff",
    "outputId": "56b35b88-ee2c-4b3e-9f39-bc2b6ccf6ff5"
   },
   "outputs": [],
   "source": [
    "modelo = Prophet()\n",
    "modelo.fit(dataset)"
   ]
  },
  {
   "cell_type": "code",
   "execution_count": null,
   "metadata": {
    "id": "PHeDITrCzU0F"
   },
   "outputs": [],
   "source": [
    "futuro = modelo.make_future_dataframe(periods=90)\n",
    "previsoes = modelo.predict(futuro)"
   ]
  },
  {
   "cell_type": "code",
   "execution_count": null,
   "metadata": {
    "colab": {
     "base_uri": "https://localhost:8080/",
     "height": 316
    },
    "id": "cz8Mcv6BzsWy",
    "outputId": "944fbd10-1b09-4f61-fe19-1b11dd43205c"
   },
   "outputs": [],
   "source": [
    "previsoes.head()"
   ]
  },
  {
   "cell_type": "code",
   "execution_count": null,
   "metadata": {
    "colab": {
     "base_uri": "https://localhost:8080/"
    },
    "id": "WLjofjc_0COc",
    "outputId": "bc9c49aa-ddb7-44c9-ed23-805f1bf28549"
   },
   "outputs": [],
   "source": [
    "len(dataset), len(previsoes)"
   ]
  },
  {
   "cell_type": "code",
   "execution_count": null,
   "metadata": {
    "colab": {
     "base_uri": "https://localhost:8080/"
    },
    "id": "svy7mUxx0HtP",
    "outputId": "fc599d1d-e467-4c17-b1f9-d6214d99a5dd"
   },
   "outputs": [],
   "source": [
    "len(previsoes) - len(dataset)"
   ]
  },
  {
   "cell_type": "code",
   "execution_count": null,
   "metadata": {
    "colab": {
     "base_uri": "https://localhost:8080/",
     "height": 623
    },
    "id": "Fn9znggl0Op9",
    "outputId": "8ba30fce-f7a0-451a-e7c8-41893742da68"
   },
   "outputs": [],
   "source": [
    "previsoes.tail(90)"
   ]
  },
  {
   "cell_type": "markdown",
   "metadata": {
    "id": "drOEdnSDr4fS"
   },
   "source": [
    "## Gráfico das previsões"
   ]
  },
  {
   "cell_type": "code",
   "execution_count": null,
   "metadata": {
    "colab": {
     "base_uri": "https://localhost:8080/",
     "height": 461
    },
    "id": "8w_U569U09Mk",
    "outputId": "357befa8-9a4d-4c45-ec1c-16326d4aac41"
   },
   "outputs": [],
   "source": [
    "modelo.plot(previsoes, xlabel = 'Data', ylabel = 'Preço');"
   ]
  },
  {
   "cell_type": "code",
   "execution_count": null,
   "metadata": {
    "colab": {
     "base_uri": "https://localhost:8080/",
     "height": 677
    },
    "id": "A1CTsnlM1NuB",
    "outputId": "6b2e9b0f-4343-4f17-81d6-d41f6e3eac44"
   },
   "outputs": [],
   "source": [
    "modelo.plot_components(previsoes);"
   ]
  },
  {
   "cell_type": "code",
   "execution_count": null,
   "metadata": {
    "id": "a6Ef0QOG1cU1"
   },
   "outputs": [],
   "source": [
    "from fbprophet.plot import plot_plotly, plot_components_plotly"
   ]
  },
  {
   "cell_type": "code",
   "execution_count": null,
   "metadata": {
    "colab": {
     "base_uri": "https://localhost:8080/",
     "height": 637
    },
    "id": "1gDLH9rl1jJe",
    "outputId": "0060b701-dbdf-4670-ede0-83b8c8478f91"
   },
   "outputs": [],
   "source": [
    "plot_plotly(modelo, previsoes)"
   ]
  },
  {
   "cell_type": "code",
   "execution_count": null,
   "metadata": {
    "colab": {
     "base_uri": "https://localhost:8080/",
     "height": 637
    },
    "id": "vhi0eZJH2A9L",
    "outputId": "5511cfa8-83a8-41c8-832e-31797d22e4d6"
   },
   "outputs": [],
   "source": [
    "plot_components_plotly(modelo, previsoes)"
   ]
  },
  {
   "cell_type": "markdown",
   "metadata": {
    "id": "xjbSYtTltAPt"
   },
   "source": [
    "## Avaliação"
   ]
  },
  {
   "cell_type": "code",
   "execution_count": null,
   "metadata": {
    "colab": {
     "base_uri": "https://localhost:8080/"
    },
    "id": "i7i9Ywdb2hal",
    "outputId": "c7b1753e-0378-4f6b-b445-8dc95c8c2b49"
   },
   "outputs": [],
   "source": [
    "teste.shape"
   ]
  },
  {
   "cell_type": "code",
   "execution_count": null,
   "metadata": {
    "colab": {
     "base_uri": "https://localhost:8080/"
    },
    "id": "dNRtBD-62ktw",
    "outputId": "b11e415a-39c4-43bb-9326-fa8894e22878"
   },
   "outputs": [],
   "source": [
    "teste.tail()"
   ]
  },
  {
   "cell_type": "code",
   "execution_count": null,
   "metadata": {
    "id": "h2DRI9GP2r0k"
   },
   "outputs": [],
   "source": [
    "pred = modelo.make_future_dataframe(periods=0)\n",
    "previsoes = modelo.predict(pred)"
   ]
  },
  {
   "cell_type": "code",
   "execution_count": null,
   "metadata": {
    "colab": {
     "base_uri": "https://localhost:8080/"
    },
    "id": "UzUENkl72_RT",
    "outputId": "9355ab1a-2b39-4aa7-9664-49bba2d65deb"
   },
   "outputs": [],
   "source": [
    "previsoes.shape"
   ]
  },
  {
   "cell_type": "code",
   "execution_count": null,
   "metadata": {
    "colab": {
     "base_uri": "https://localhost:8080/",
     "height": 316
    },
    "id": "P_-duLuK3C8p",
    "outputId": "f2846699-b1de-4ba8-e5a1-92ccdfede17b"
   },
   "outputs": [],
   "source": [
    "previsoes.tail()"
   ]
  },
  {
   "cell_type": "code",
   "execution_count": null,
   "metadata": {
    "id": "OiShqnNv3NWK"
   },
   "outputs": [],
   "source": [
    "previsoes = previsoes['yhat'].tail(365)"
   ]
  },
  {
   "cell_type": "code",
   "execution_count": null,
   "metadata": {
    "colab": {
     "base_uri": "https://localhost:8080/"
    },
    "id": "soqJPMOE3VnM",
    "outputId": "0c26267c-07e0-4d25-ab2a-2a9b3bb4c9ba"
   },
   "outputs": [],
   "source": [
    "previsoes"
   ]
  },
  {
   "cell_type": "code",
   "execution_count": null,
   "metadata": {
    "colab": {
     "base_uri": "https://localhost:8080/"
    },
    "id": "L9XETiUQ3aG6",
    "outputId": "919ec7e2-122b-4836-da92-edfb43fc1c6f"
   },
   "outputs": [],
   "source": [
    "mean_absolute_error(teste, previsoes)"
   ]
  },
  {
   "cell_type": "markdown",
   "metadata": {
    "id": "1-fNR2EeUDzC"
   },
   "source": [
    "## Exercício"
   ]
  },
  {
   "cell_type": "code",
   "execution_count": null,
   "metadata": {
    "colab": {
     "base_uri": "https://localhost:8080/",
     "height": 447
    },
    "id": "s9VhkM9cUFy2",
    "outputId": "8ef2ee26-14a9-4650-c9c0-6d7af2e2a0ad"
   },
   "outputs": [],
   "source": [
    "dataset = pd.read_csv('acoes_ex.csv', usecols = ['Date', 'AMBEV'])\n",
    "dataset = dataset[['Date', 'AMBEV']].rename(columns = {'Date': 'ds', 'AMBEV': 'y'})\n",
    "dataset"
   ]
  },
  {
   "cell_type": "code",
   "execution_count": null,
   "metadata": {
    "colab": {
     "base_uri": "https://localhost:8080/"
    },
    "id": "jIEUMaygWgEH",
    "outputId": "31bb95b0-f8e9-4512-9ef9-743fccc5f84c"
   },
   "outputs": [],
   "source": [
    "from fbprophet import Prophet\n",
    "model = Prophet()\n",
    "model.fit(dataset)"
   ]
  },
  {
   "cell_type": "code",
   "execution_count": null,
   "metadata": {
    "colab": {
     "base_uri": "https://localhost:8080/"
    },
    "id": "FoWzymZD32Dn",
    "outputId": "cd55d946-ecc1-481c-a152-a2cb635c940d"
   },
   "outputs": [],
   "source": [
    "teste = dataset[1081:]\n",
    "teste.shape"
   ]
  },
  {
   "cell_type": "code",
   "execution_count": null,
   "metadata": {
    "id": "iEQvVl0x4Q01"
   },
   "outputs": [],
   "source": [
    "pred = model.make_future_dataframe(periods=0)\n",
    "previsoes = model.predict(pred)"
   ]
  },
  {
   "cell_type": "code",
   "execution_count": null,
   "metadata": {
    "id": "2NaqvR2e4aWq"
   },
   "outputs": [],
   "source": [
    "previsoes = previsoes['yhat'].tail(365)"
   ]
  },
  {
   "cell_type": "code",
   "execution_count": null,
   "metadata": {
    "colab": {
     "base_uri": "https://localhost:8080/"
    },
    "id": "wBmymRmR5Lh_",
    "outputId": "300a408e-8e8b-4d9a-9d02-b1ed0c1779c1"
   },
   "outputs": [],
   "source": [
    "previsoes"
   ]
  },
  {
   "cell_type": "code",
   "execution_count": null,
   "metadata": {
    "colab": {
     "base_uri": "https://localhost:8080/"
    },
    "id": "m5Ft7X525NcG",
    "outputId": "6c4b0d9a-3981-4bb1-c164-8ac32d6c9961"
   },
   "outputs": [],
   "source": [
    "teste['y']"
   ]
  },
  {
   "cell_type": "code",
   "execution_count": null,
   "metadata": {
    "colab": {
     "base_uri": "https://localhost:8080/"
    },
    "id": "ZyDwWAYx4rFi",
    "outputId": "4f50209c-f9ba-4261-e954-8c9c95be213d"
   },
   "outputs": [],
   "source": [
    "mean_absolute_error(teste['y'], previsoes)"
   ]
  }
 ],
 "metadata": {
  "colab": {
   "collapsed_sections": [
    "vD9tYEN0A4Jz"
   ],
   "name": "Cópia de Python para finanças - séries temporais.ipynb",
   "provenance": []
  },
  "interpreter": {
   "hash": "fe48fffb48bb83913fd3bd07e5ac3c442e6a588f71f974a9926902ad3a542a1d"
  },
  "kernelspec": {
   "display_name": "Python 3 (ipykernel)",
   "language": "python",
   "name": "python3"
  },
  "language_info": {
   "codemirror_mode": {
    "name": "ipython",
    "version": 3
   },
   "file_extension": ".py",
   "mimetype": "text/x-python",
   "name": "python",
   "nbconvert_exporter": "python",
   "pygments_lexer": "ipython3",
   "version": "3.8.12"
  }
 },
 "nbformat": 4,
 "nbformat_minor": 1
}
